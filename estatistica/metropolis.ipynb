{
 "cells": [
  {
   "cell_type": "markdown",
   "id": "b25d7bea",
   "metadata": {},
   "source": [
    "# Algoritmo de Metropolis–Hastings\n",
    "## Danilo Lemos Cardoso"
   ]
  },
  {
   "cell_type": "code",
   "execution_count": 1,
   "id": "75bdbc3f",
   "metadata": {},
   "outputs": [],
   "source": [
    "import sys\n",
    "import numpy as np\n",
    "import matplotlib.pyplot as plt\n",
    "\n",
    "%matplotlib inline"
   ]
  },
  {
   "cell_type": "markdown",
   "id": "a37f338a",
   "metadata": {},
   "source": [
    "O objetivo é estimar a distribuição a posteriori da correlação de\n",
    "duas variáveis com distribuição normal padrão usando o algoritmo de Metropolis–Hastings. \n",
    "\n",
    "Para isso vamos definir um valor de correlação $\\rho$ e gerar uma amostra com $N$ elementos da\n",
    "distribuição normal bivariável:\n",
    "\n",
    "$(X, Y) \\sim \\mathcal{N}(\\mu; \\Sigma)$\n",
    "\n",
    "onde $\\mu = (\\mu_X,\\mu_Y)$ e $\\Sigma =\n",
    "\\begin{equation*}\n",
    "\\mathbf{}\\left[\\begin{matrix}\n",
    "\\sigma^2_X & \\rho \\sigma_X \\sigma_Y\\\\\n",
    "\\rho \\sigma_X \\sigma_Y & \\sigma^2_Y\n",
    "\\end{matrix}\\right] \n",
    "\\end{equation*}\n",
    "$.\n",
    "\n",
    "No nosso caso: \n",
    "$(X, Y) \\sim \\mathcal{N}\\left((0,0); \\begin{equation*}\n",
    "\\mathbf{}\\left[\\begin{matrix}\n",
    "1 & \\rho\\\\\n",
    "\\rho & 1\n",
    "\\end{matrix}\\right] \n",
    "\\end{equation*}\\right)$.\n"
   ]
  },
  {
   "cell_type": "code",
   "execution_count": 2,
   "id": "58b2e07d",
   "metadata": {},
   "outputs": [
    {
     "data": {
      "image/png": "[encoded data removed]",
      "text/plain": [
       "<Figure size 432x288 with 1 Axes>"
      ]
     },
     "metadata": {
      "needs_background": "light"
     },
     "output_type": "display_data"
    }
   ],
   "source": [
    "rho = 0.8\n",
    "N = 1000\n",
    "\n",
    "Z = np.random.multivariate_normal([0,0], [[1, rho], [rho, 1]], N).T\n",
    "X = Z[0]\n",
    "Y = Z[1]\n",
    "\n",
    "plt.hist2d(X, Y, bins=50);"
   ]
  },
  {
   "cell_type": "markdown",
   "id": "777433ec",
   "metadata": {},
   "source": [
    "Apesar de serem dependentes, as variáveis têm distribuição $\\mathcal{N}(0;1)$"
   ]
  },
  {
   "cell_type": "code",
   "execution_count": 3,
   "id": "6f593216",
   "metadata": {},
   "outputs": [
    {
     "data": {
      "image/png": "[encoded data removed]",
      "text/plain": [
       "<Figure size 432x288 with 1 Axes>"
      ]
     },
     "metadata": {
      "needs_background": "light"
     },
     "output_type": "display_data"
    },
    {
     "data": {
      "image/png": "[encoded data removed]",
      "text/plain": [
       "<Figure size 432x288 with 1 Axes>"
      ]
     },
     "metadata": {
      "needs_background": "light"
     },
     "output_type": "display_data"
    }
   ],
   "source": [
    "plt.hist(X, bins=50)\n",
    "plt.title(\"X\")\n",
    "plt.show()\n",
    "\n",
    "plt.hist(Y, bins=50)\n",
    "plt.title(\"Y\")\n",
    "plt.show()"
   ]
  },
  {
   "cell_type": "markdown",
   "id": "c0309da1",
   "metadata": {},
   "source": [
    "Com esses valores a função de verossimilhança fica sendo:\n",
    "\n",
    "$$p((X,Y) ~|~ \\rho) = \\prod_{i=1}^n \\frac{1}{2\\pi\\sqrt{1-\\rho^2}}~\\exp\\left\\{-\\frac{1}{2(1-\\rho^2)}\\left[x_i^2-2\\rho x_i y_i + y_i^2\\right]\\right\\}$$\n",
    "\n",
    "Para a priori vamos usar a priori de Jeffreys do parâmetro da normal bivariável (Gelman et al., 1995): $p(\\rho)=\\frac{1}{|\\Sigma|^{3/2}}$.\n",
    "\n",
    "No nosso caso: $p(\\rho)=\\frac{1}{(1-\\rho^2)^{3/2}}$. Observe que a integral da priori não converge, logo é uma priori degenerada.\n",
    "\n",
    "Com isso nossa distribuição a posteriori fica:\n",
    "\n",
    "$$p(\\rho ~|~ (X,Y)) \\propto \\frac{1}{(1-\\rho^2)^{3/2}}~\\prod_{i=1}^n \\frac{1}{2\\pi\\sqrt{1-\\rho^2}}~\\exp\\left\\{-\\frac{1}{2(1-\\rho^2)}\\left[x_i^2-2\\rho x_i y_i + y_i^2\\right]\\right\\}$$\n",
    "\n",
    "Vamos implementar a função que calcula esses valores para ver o que acontece:"
   ]
  },
  {
   "cell_type": "code",
   "execution_count": 4,
   "id": "e07e2039",
   "metadata": {},
   "outputs": [
    {
     "data": {
      "image/png": "[encoded data removed]",
      "text/plain": [
       "<Figure size 432x288 with 1 Axes>"
      ]
     },
     "metadata": {
      "needs_background": "light"
     },
     "output_type": "display_data"
    }
   ],
   "source": [
    "def prod(rho, X, Y):\n",
    "    P = 1\n",
    "    for w in zip(X, Y):\n",
    "        P *= 1 / (2*np.pi * np.sqrt(1-rho*rho))\n",
    "        P *= np.exp( (w[0]*w[0] - 2*rho*w[0]*w[1] + w[1]*w[1]) / (-2*(1-rho*rho)) )\n",
    "    return P\n",
    "\n",
    "def prob(rho, X, Y):\n",
    "    return pow(1-rho*rho, -3/2)*prod(rho, X, Y)\n",
    "\n",
    "LL = [prob(i, X, Y) for i in np.arange(-0.99, 0.99, 0.01)]\n",
    "plt.plot(LL);"
   ]
  },
  {
   "cell_type": "code",
   "execution_count": 5,
   "id": "939ae50b",
   "metadata": {},
   "outputs": [
    {
     "data": {
      "text/plain": [
       "0.0"
      ]
     },
     "execution_count": 5,
     "metadata": {},
     "output_type": "execute_result"
    }
   ],
   "source": [
    "max(LL)"
   ]
  },
  {
   "cell_type": "markdown",
   "id": "f7f87295",
   "metadata": {},
   "source": [
    "Testamos para vários valores de $-0,99$ a $0,99$ e todos deram $0$.\n",
    "\n",
    "Vamos agora tentar calcular o logaritmo dessa função: "
   ]
  },
  {
   "cell_type": "code",
   "execution_count": 6,
   "id": "aa8a0d51",
   "metadata": {},
   "outputs": [
    {
     "data": {
      "image/png": "[encoded data removed]",
      "text/plain": [
       "<Figure size 432x288 with 1 Axes>"
      ]
     },
     "metadata": {
      "needs_background": "light"
     },
     "output_type": "display_data"
    }
   ],
   "source": [
    "def ln_prod(rho, X, Y):\n",
    "    n = len(X)\n",
    "    P = -n * (np.log(2*np.pi) + np.log(1-rho*rho) / 2)\n",
    "    \n",
    "    S = 0\n",
    "    for w in zip(X, Y):\n",
    "        S += w[0]*w[0] - 2*rho*w[0]*w[1] + w[1]*w[1]\n",
    "    S /= 2 * (1-rho*rho)\n",
    "    \n",
    "    return P - S\n",
    "\n",
    "def ln_prob(rho, X, Y):\n",
    "    return -3*np.log(1-rho*rho)/2 + ln_prod(rho, X, Y)\n",
    "\n",
    "LL = [ln_prod(i, X, Y) for i in np.arange(-0.99, 0.99, 0.01)]\n",
    "plt.plot(LL);"
   ]
  },
  {
   "cell_type": "code",
   "execution_count": 7,
   "id": "6c1bafa2",
   "metadata": {},
   "outputs": [
    {
     "data": {
      "text/plain": [
       "-2342.9186560166286"
      ]
     },
     "execution_count": 7,
     "metadata": {},
     "output_type": "execute_result"
    }
   ],
   "source": [
    "max(LL)"
   ]
  },
  {
   "cell_type": "markdown",
   "id": "14b892b0",
   "metadata": {},
   "source": [
    "Agora sim obtivemos um resultado. Note como o valor até o máximo do logaritmo ainda é um valor\n",
    "muito baixo, o computador não consegue trabalhar com essa precisão numérica.\n",
    "\n",
    "Sorte que nosso algoritmo pode usar o $\\ln$ da função tranquilamente."
   ]
  },
  {
   "cell_type": "markdown",
   "id": "6ad1e465",
   "metadata": {},
   "source": [
    "## O algoritmo\n",
    "\n",
    "Vamos usar o Metropolis–Hastings para gerar a nossa amostra de $\\rho$. O algoritmo\n",
    "vai provocando perturbações aleatórias no valor de $\\rho$ e decide se esse novo valor\n",
    "vai ser aceito ou rejeitado. Usaremos uma uniforme para fazer a perturbação no valor\n",
    "de $\\rho$:\n",
    "\n",
    "$$\\rho \\sim \\mathcal{U}(\\rho^{i-1}-\\varepsilon; \\rho^{i-1}+\\varepsilon)$$\n",
    "\n",
    "Devemos aceitar ou rejeitar o valor de $\\rho$ de uma forma que dê mais peso para\n",
    "maiores valores de verossimilhança. Para isso calcularemos a razão da verossimilhança\n",
    "anterior com a nova verossimilhança: \n",
    "\n",
    "$$\\alpha = \\frac{p(\\rho^{(i)} ~|~ (X,Y))}{p(\\rho^{(i-1)} ~|~ (X,Y))}$$\n",
    "\n",
    "Se $\\alpha$ for maior que 1 eu aceito o candidato a $\\rho$, se for entre $0$ e $1$ eu\n",
    "vou aceitar o candidato com probabilidade $\\alpha$."
   ]
  },
  {
   "cell_type": "code",
   "execution_count": 8,
   "id": "9342c26f",
   "metadata": {},
   "outputs": [
    {
     "data": {
      "image/png": "[encoded data removed]",
      "text/plain": [
       "<Figure size 432x288 with 1 Axes>"
      ]
     },
     "metadata": {
      "needs_background": "light"
     },
     "output_type": "display_data"
    }
   ],
   "source": [
    "eps = 0.03\n",
    "\n",
    "rho = 0\n",
    "all_vals = []\n",
    "\n",
    "burn = 400\n",
    "use = 2000\n",
    "\n",
    "for i in range(burn + use):\n",
    "    \n",
    "    # Gera o candidato\n",
    "    candidate = np.random.uniform(rho-eps, rho+eps)\n",
    "    \n",
    "    # Regulariza o valor\n",
    "    if (candidate < -1):\n",
    "        candidate = -1+eps\n",
    "    if (candidate > 1):\n",
    "        candidate = 1-eps\n",
    "\n",
    "    # Calcula o alpha\n",
    "    ln_alpha = ln_prob(candidate, X, Y) - ln_prob(rho, X, Y)\n",
    "    alpha = np.exp(ln_alpha)\n",
    "    \n",
    "    # Calcula o alpha sem usar o ln (não funciona)\n",
    "    #alpha = prob(candidate, X, Y) / prob(rho, X, Y)\n",
    "\n",
    "    # Descarta ou aceita o candidato\n",
    "    u = np.random.uniform(0, 1)\n",
    "    if (u < alpha):\n",
    "        rho = candidate\n",
    "    \n",
    "    all_vals += [rho]\n",
    "\n",
    "amostra = all_vals[burn:]\n",
    "    \n",
    "plt.plot(all_vals);"
   ]
  },
  {
   "cell_type": "markdown",
   "id": "8e3e67f5",
   "metadata": {
    "tags": []
   },
   "source": [
    "Convergiu bem rápido para o valor definido de $0,8$, e descartando os primeiros valores podemos ter uma aproximação da densidade de $\\rho$."
   ]
  },
  {
   "cell_type": "code",
   "execution_count": 9,
   "id": "799ee401",
   "metadata": {},
   "outputs": [
    {
     "data": {
      "image/png": "[encoded data removed]",
      "text/plain": [
       "<Figure size 432x288 with 1 Axes>"
      ]
     },
     "metadata": {
      "needs_background": "light"
     },
     "output_type": "display_data"
    }
   ],
   "source": [
    "plt.hist(amostra, bins=20);"
   ]
  }
 ],
 "metadata": {
  "kernelspec": {
   "display_name": "Python 3",
   "language": "python",
   "name": "python3"
  },
  "language_info": {
   "codemirror_mode": {
    "name": "ipython",
    "version": 3
   },
   "file_extension": ".py",
   "mimetype": "text/x-python",
   "name": "python",
   "nbconvert_exporter": "python",
   "pygments_lexer": "ipython3",
   "version": "3.8.8"
  }
 },
 "nbformat": 4,
 "nbformat_minor": 5
}
